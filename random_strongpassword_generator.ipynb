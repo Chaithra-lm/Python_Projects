{
  "nbformat": 4,
  "nbformat_minor": 0,
  "metadata": {
    "colab": {
      "name": "random_strongpassword_generator.ipynb",
      "provenance": [],
      "collapsed_sections": []
    },
    "kernelspec": {
      "name": "python3",
      "display_name": "Python 3"
    },
    "language_info": {
      "name": "python"
    }
  },
  "cells": [
    {
      "cell_type": "code",
      "metadata": {
        "colab": {
          "base_uri": "https://localhost:8080/"
        },
        "id": "GoJKvhrxXWoB",
        "outputId": "fc66f8af-0c3a-482c-dc33-9589caf00f33"
      },
      "source": [
        "import random\n",
        "spl=\"\"\"! # $ % & ( ) * + , - . /  : ; < = > ? @ [ \\ ] ^ _ ` { | } ~ \"\"\".split()\n",
        "spl.append(\"'\")\n",
        "spl.append('\"') # filling the spl list with all the special characters\n",
        "upper=list(map(chr,range(65,91))) #loading all uppercase letters in the list using their ascii value\n",
        "lower=list(map(chr,range(97,123)))#loading all lowercase letters in the list using their ascii value\n",
        "num=list(map(str,range(0,10))) # storing numbers 0-9 as strings\n",
        "while True: #starting infinite loop\n",
        "    print(\"------------Press 0 to exit-----------\\n\\n\")\n",
        "    l=input(\"Enter the length of the password: \") # if l is '0' loop ends else loop will continue execution\n",
        "    if l==\"0\":\n",
        "        break\n",
        "    try:\n",
        "      #trying to convert input into int\n",
        "        l=int(l)\n",
        "    except:\n",
        "        print(\"Please Enter Numbers\\n\")\n",
        "        #if input is not int in that case just move to the next iteration\n",
        "        continue\n",
        "    if l<6 or l>18:\n",
        "        # if the length entered is below 6 it can't be strong if it's above 18 then it's inavlid \n",
        "        #so we only want to generate from 6-18 anything else just move to the next iteration\n",
        "        print(\"Length Should be within 6 and 18\")\n",
        "        continue\n",
        "    pwd=\"\" #creating empty string to store password\n",
        "    pwd+=random.choice(upper) #adding any random uppercase from upper list\n",
        "    pwd+=random.choice(lower)#adding any random lowercase from lower list\n",
        "    pwd+=random.choice(spl)#adding any random special character from spl list\n",
        "    pwd+=random.choice(num) #adding any random number from num list\n",
        "    all=upper+lower+spl+num # creating a list of all the elements together\n",
        "    for i in range(l-4):#since already 4 values we have inserted the length - 4 we are looping to insert\n",
        "        pwd+=random.choice(all) # for each iteration we are adding one more string from the all list\n",
        "    print(\"Your password is: \",pwd) #finally show the password"
      ],
      "execution_count": 1,
      "outputs": [
        {
          "output_type": "stream",
          "text": [
            "------------Press 0 to exit-----------\n",
            "\n",
            "\n",
            "Enter the length of the password: 15\n",
            "Your password is:  Uq}2LodDzf93(LZ\n",
            "------------Press 0 to exit-----------\n",
            "\n",
            "\n",
            "Enter the length of the password: 0\n"
          ],
          "name": "stdout"
        }
      ]
    },
    {
      "cell_type": "code",
      "metadata": {
        "id": "c7NzLIuG6avA"
      },
      "source": [
        ""
      ],
      "execution_count": null,
      "outputs": []
    }
  ]
}